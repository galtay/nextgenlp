{
 "cells": [
  {
   "cell_type": "markdown",
   "id": "425d614e",
   "metadata": {},
   "source": [
    "# Skipgrams on sets\n",
    "\n",
    "In NLP, a skipgram can be defined as two tokens occurring within a fixed window of one another in a sequence. The number of skipgrams in a sequence scales linearly with the length of the sequence and the window size (ignoring edge effects at the beginning and end of the sequence). This means that each window contributes an equal number of skipgrams and the total number of windows scales like the length of the entire corpus. For example, the sequence `a, b, c, d, e` with a window size of `2` will produce the following skipgrams, \n",
    "\n",
    "```\n",
    "a, b\n",
    "a, c\n",
    "b, a\n",
    "b, c\n",
    "b, d\n",
    "c, a\n",
    "c, b\n",
    "c, d\n",
    "c, e\n",
    "d, b\n",
    "d, c\n",
    "d, e\n",
    "e, c\n",
    "e, d\n",
    "```\n",
    "\n",
    "For \"gene sentences\" the sequence order has no intrinsic meaning (i.e. they are sets) and so it does not make sense to define a window on these sequences to form skipgrams. In other words, the co-occurrence of two genes at opposite ends of a gene sentence is just as significant as two adjacent genes in a sentence. A natural extension would be to form skipgrams from every possible permutation of size 2 in a gene sentence. However, when we construct a co-occurrence matrix we would like sums over the rows and columns to be proportional to the rate at which unigrams appear in the corpus. \n",
    "\n",
    "Lets experiment with a fake corpus. "
   ]
  },
  {
   "cell_type": "code",
   "execution_count": 1,
   "id": "016fa040",
   "metadata": {},
   "outputs": [],
   "source": [
    "from collections import Counter\n",
    "import itertools\n",
    "import math\n",
    "import random\n",
    "\n",
    "import matplotlib.pyplot as plt\n",
    "import numpy as np"
   ]
  },
  {
   "cell_type": "code",
   "execution_count": 2,
   "id": "f6c24d41",
   "metadata": {},
   "outputs": [],
   "source": [
    "def nPr(n, r=2):\n",
    "    \"\"\"Number of permuations of size 2\"\"\"\n",
    "    return int(math.factorial(n) / math.factorial(n - r))"
   ]
  },
  {
   "cell_type": "code",
   "execution_count": 3,
   "id": "d8e39429",
   "metadata": {},
   "outputs": [],
   "source": [
    "def random_int_except(a, b, no):\n",
    "    \"\"\"Generate a random integer between a and b (inclusive) avoiding no\"\"\"\n",
    "    x = random.randint(a, b)\n",
    "    while x == no:\n",
    "        x = random.randint(a, b)\n",
    "    return x"
   ]
  },
  {
   "cell_type": "code",
   "execution_count": 4,
   "id": "fdc5f0ec",
   "metadata": {},
   "outputs": [],
   "source": [
    "MAX_LEN = 1000\n",
    "NUM_PERMS = [0, 0] + [nPr(ii) for ii in range(2, MAX_LEN + 1)]\n",
    "SAMP_MULT = 10\n",
    "PERM_RATIO = {ii: (SAMP_MULT * ii) / NUM_PERMS[ii] for ii in range(2, MAX_LEN + 1)}"
   ]
  },
  {
   "cell_type": "code",
   "execution_count": 5,
   "id": "f4d5eaa2",
   "metadata": {},
   "outputs": [
    {
     "data": {
      "image/png": "[encoded data removed]",
      "text/plain": [
       "<Figure size 640x480 with 1 Axes>"
      ]
     },
     "metadata": {},
     "output_type": "display_data"
    }
   ],
   "source": [
    "x = list(range(len(NUM_PERMS)))\n",
    "y = NUM_PERMS\n",
    "plt.plot(x, y)\n",
    "plt.yscale('log')"
   ]
  },
  {
   "cell_type": "code",
   "execution_count": 6,
   "id": "a379812f",
   "metadata": {},
   "outputs": [],
   "source": [
    "def skipgrams_win(seqs, winsize=2):\n",
    "    \"\"\"Traditional skipgram calculation\"\"\"\n",
    "    skipgram_weights = Counter()\n",
    "    for seq in seqs:\n",
    "        num_toks = len(seq)\n",
    "        for ii in range(num_toks):\n",
    "            unigram_a = seq[ii]\n",
    "            # loop over offsets from ii\n",
    "            for jjo in range(-winsize, winsize+1):\n",
    "                jj = ii + jjo\n",
    "                # skip if unigram_b will equal unigram_a\n",
    "                if jjo == 0: \n",
    "                    continue\n",
    "                # skip if offset is before beginning\n",
    "                if jj < 0:\n",
    "                    continue\n",
    "                # skip if offset is after end \n",
    "                if jj >= num_toks:\n",
    "                    continue\n",
    "                unigram_b = seq[jj]\n",
    "\n",
    "                skipgram = (unigram_a, unigram_b)\n",
    "                skipgram_weights[skipgram] += 1 \n",
    "    return skipgram_weights"
   ]
  },
  {
   "cell_type": "code",
   "execution_count": 7,
   "id": "ee72810b",
   "metadata": {},
   "outputs": [],
   "source": [
    "def skipgrams_rand(seqs, kk=SAMP_MULT):\n",
    "    \"\"\"Choose kk random unigram_b for each unigram_a\"\"\"\n",
    "    skipgram_weights = Counter()\n",
    "    for seq in seqs:\n",
    "        num_toks = len(seq)\n",
    "        for ii in range(num_toks):\n",
    "            unigram_a = seq[ii]\n",
    "            for nn in range(kk):\n",
    "                jj = random_int_except(0, num_toks - 1, ii)\n",
    "                unigram_b = seq[jj]\n",
    "                skipgram = (unigram_a, unigram_b)\n",
    "                skipgram_weights[skipgram] += 1\n",
    "    return skipgram_weights"
   ]
  },
  {
   "cell_type": "code",
   "execution_count": 8,
   "id": "79a0f3f4",
   "metadata": {},
   "outputs": [],
   "source": [
    "def skipgrams_perm(seqs, do_length_norm=True):\n",
    "    \"\"\"Calculate every permuation of size 2. Optionally weight by length.\"\"\"\n",
    "    skipgram_weights = Counter()\n",
    "    for seq in seqs:\n",
    "        num_toks = len(seq)\n",
    "        perms = list(itertools.permutations(seq, 2))\n",
    "        length_norm = PERM_RATIO[num_toks]\n",
    "        for unigram_a, unigram_b in perms:\n",
    "            skipgram = (unigram_a, unigram_b)\n",
    "            if do_length_norm:\n",
    "                weight = length_norm\n",
    "            else:\n",
    "                weight = 1\n",
    "            skipgram_weights[skipgram] += weight\n",
    "    return skipgram_weights"
   ]
  },
  {
   "cell_type": "code",
   "execution_count": 25,
   "id": "0f3dc3f0",
   "metadata": {},
   "outputs": [],
   "source": [
    "def skipgrams_mix(seqs, n_max, kk=SAMP_MULT):\n",
    "    \"\"\"Permutations < n_max, random above n_max\"\"\"\n",
    "    skipgram_weights = Counter()\n",
    "    for seq in seqs:\n",
    "        num_toks = len(seq)\n",
    "        if num_toks <= n_max:\n",
    "            perms = list(itertools.permutations(seq, 2))\n",
    "            length_norm = PERM_RATIO[num_toks]\n",
    "            for unigram_a, unigram_b in perms:\n",
    "                skipgram = (unigram_a, unigram_b)\n",
    "                weight = length_norm\n",
    "                skipgram_weights[skipgram] += weight\n",
    "        else:\n",
    "            for ii in range(num_toks):\n",
    "                unigram_a = seq[ii]\n",
    "                for nn in range(kk):\n",
    "                    jj = random_int_except(0, num_toks - 1, ii)\n",
    "                    unigram_b = seq[jj]\n",
    "                    skipgram = (unigram_a, unigram_b)\n",
    "                    skipgram_weights[skipgram] += 1            \n",
    "    return skipgram_weights"
   ]
  },
  {
   "cell_type": "markdown",
   "id": "30304c2f",
   "metadata": {},
   "source": [
    "# Lets experiment with fake sentences"
   ]
  },
  {
   "cell_type": "code",
   "execution_count": 26,
   "id": "c6e41e8a",
   "metadata": {},
   "outputs": [],
   "source": [
    "import string"
   ]
  },
  {
   "cell_type": "code",
   "execution_count": 27,
   "id": "b1165dbd",
   "metadata": {},
   "outputs": [],
   "source": [
    "# construct a corpus\n",
    "# each letter can only appear once in each sequence\n",
    "# seq length is random\n",
    "# letter order is random\n",
    "# padding with \".\" to remove window edge effects\n",
    "winsize = 3\n",
    "vocab = [\".\"] + list(string.ascii_lowercase)\n",
    "stoi = {s:i for i,s in enumerate(vocab)}\n",
    "itos = {i:s for i,s in enumerate(vocab)}\n",
    "min_seq_len = 4\n",
    "max_seq_len = 24\n",
    "num_seq = 100\n",
    "corpus = []\n",
    "for ii in range(num_seq):\n",
    "    seq = []\n",
    "    seq_len = random.randint(min_seq_len, max_seq_len)\n",
    "    while len(seq) < seq_len:\n",
    "        x = random.choice(vocab[1:])\n",
    "        if x in seq:\n",
    "            continue\n",
    "        else:\n",
    "            seq.append(x)\n",
    "    seq = [\".\"] * winsize + seq + [\".\"] * winsize\n",
    "    corpus.append(seq)"
   ]
  },
  {
   "cell_type": "code",
   "execution_count": 28,
   "id": "38eb7b15",
   "metadata": {},
   "outputs": [
    {
     "name": "stdout",
     "output_type": "stream",
     "text": [
      "['.', '.', '.', 'p', 'z', 'k', 'y', 'c', 'h', 'a', 'f', 'x', 'l', 's', 'q', 'm', 'd', 'i', 't', 'e', 'n', '.', '.', '.']\n"
     ]
    }
   ],
   "source": [
    "print(corpus[0])"
   ]
  },
  {
   "cell_type": "code",
   "execution_count": 29,
   "id": "f40ce7c5",
   "metadata": {},
   "outputs": [],
   "source": [
    "unigram_counts = Counter()\n",
    "for seq in corpus:\n",
    "    for char in seq:\n",
    "        unigram_counts[char] += 1"
   ]
  },
  {
   "cell_type": "code",
   "execution_count": 30,
   "id": "17664c04",
   "metadata": {},
   "outputs": [],
   "source": [
    "x_unigram = np.zeros(len(vocab))\n",
    "for u,c in unigram_counts.most_common():\n",
    "    x_unigram[stoi[u]] = c"
   ]
  },
  {
   "cell_type": "code",
   "execution_count": 31,
   "id": "f8ddb422",
   "metadata": {},
   "outputs": [
    {
     "data": {
      "text/plain": [
       "array([600.,  56.,  59.,  58.,  55.,  66.,  56.,  52.,  46.,  51.,  53.,\n",
       "        53.,  51.,  59.,  51.,  58.,  46.,  53.,  50.,  55.,  48.,  49.,\n",
       "        63.,  44.,  57.,  54.,  50.])"
      ]
     },
     "execution_count": 31,
     "metadata": {},
     "output_type": "execute_result"
    }
   ],
   "source": [
    "x_unigram"
   ]
  },
  {
   "cell_type": "code",
   "execution_count": 32,
   "id": "bad545c0",
   "metadata": {},
   "outputs": [],
   "source": [
    "sw = skipgrams_win(corpus, winsize=winsize)\n",
    "xw_skipgram = np.zeros((len(vocab), len(vocab)))\n",
    "for (ua,ub), c in sw.most_common():\n",
    "    xw_skipgram[stoi[ua], stoi[ub]] = c\n",
    "    \n",
    "sr = skipgrams_rand(corpus)\n",
    "xr_skipgram = np.zeros((len(vocab), len(vocab)))\n",
    "for (ua,ub), c in sr.most_common():\n",
    "    xr_skipgram[stoi[ua], stoi[ub]] = c\n",
    "    \n",
    "sp = skipgrams_perm(corpus)\n",
    "xp_skipgram = np.zeros((len(vocab), len(vocab)))\n",
    "for (ua,ub), c in sp.most_common():\n",
    "    xp_skipgram[stoi[ua], stoi[ub]] = c\n",
    "    \n",
    "spt = skipgrams_perm(corpus, do_length_norm=False)\n",
    "xpt_skipgram = np.zeros((len(vocab), len(vocab)))\n",
    "for (ua,ub), c in spt.most_common():\n",
    "    xpt_skipgram[stoi[ua], stoi[ub]] = c\n",
    "    \n",
    "sm = skipgrams_mix(corpus, n_max=10)\n",
    "xm_skipgram = np.zeros((len(vocab), len(vocab)))\n",
    "for (ua,ub), c in sm.most_common():\n",
    "    xm_skipgram[stoi[ua], stoi[ub]] = c"
   ]
  },
  {
   "cell_type": "code",
   "execution_count": 35,
   "id": "f5257c17",
   "metadata": {},
   "outputs": [
    {
     "name": "stdout",
     "output_type": "stream",
     "text": [
      "., 4.00, 10.00, 10.08, 18.93, 9.94\n",
      "a, 6.00, 10.00, 10.48, 21.20, 9.88\n",
      "b, 6.00, 10.00, 9.83, 21.15, 10.32\n",
      "c, 6.00, 10.00, 9.50, 21.21, 9.34\n",
      "d, 6.00, 10.00, 10.91, 21.51, 10.40\n",
      "e, 6.00, 10.00, 10.02, 20.74, 10.67\n",
      "f, 6.00, 10.00, 9.95, 21.64, 10.23\n",
      "g, 6.00, 10.00, 9.50, 22.10, 10.19\n",
      "h, 6.00, 10.00, 9.41, 22.20, 9.39\n",
      "i, 6.00, 10.00, 10.12, 22.14, 9.29\n",
      "j, 6.00, 10.00, 10.30, 21.00, 9.58\n",
      "k, 6.00, 10.00, 10.23, 21.79, 9.57\n",
      "l, 6.00, 10.00, 9.96, 21.67, 10.08\n",
      "m, 6.00, 10.00, 9.36, 21.17, 11.25\n",
      "n, 6.00, 10.00, 9.27, 22.41, 9.63\n",
      "o, 6.00, 10.00, 9.48, 21.00, 10.67\n",
      "p, 6.00, 10.00, 9.54, 21.80, 10.17\n",
      "q, 6.00, 10.00, 9.98, 21.91, 9.47\n",
      "r, 6.00, 10.00, 9.60, 21.70, 10.10\n",
      "s, 6.00, 10.00, 10.04, 22.18, 10.42\n",
      "t, 6.00, 10.00, 9.48, 21.75, 9.83\n",
      "u, 6.00, 10.00, 9.65, 21.27, 10.22\n",
      "v, 6.00, 10.00, 10.30, 21.16, 9.49\n",
      "w, 6.00, 10.00, 10.86, 22.55, 9.50\n",
      "x, 6.00, 10.00, 11.07, 22.04, 10.25\n",
      "y, 6.00, 10.00, 10.37, 21.54, 9.98\n",
      "z, 6.00, 10.00, 9.76, 21.16, 10.28\n"
     ]
    }
   ],
   "source": [
    "for u in vocab:\n",
    "    xuni = x_unigram[stoi[u]]\n",
    "    xw = xw_skipgram.sum(axis=0)[stoi[u]]\n",
    "    xr = xr_skipgram.sum(axis=0)[stoi[u]]\n",
    "    xp = xp_skipgram.sum(axis=0)[stoi[u]]\n",
    "    xpt = xpt_skipgram.sum(axis=0)[stoi[u]]\n",
    "    xm = xm_skipgram.sum(axis=0)[stoi[u]]\n",
    "    print(f\"{u}, {xw/xuni:.2f}, {xp/xuni:.2f}, {xm/xuni:.2f}, {xpt/xuni:.2f}, {xr/xuni:.2f}\")"
   ]
  },
  {
   "cell_type": "code",
   "execution_count": null,
   "id": "e96a3818",
   "metadata": {},
   "outputs": [],
   "source": []
  }
 ],
 "metadata": {
  "kernelspec": {
   "display_name": "Python 3 (ipykernel)",
   "language": "python",
   "name": "python3"
  },
  "language_info": {
   "codemirror_mode": {
    "name": "ipython",
    "version": 3
   },
   "file_extension": ".py",
   "mimetype": "text/x-python",
   "name": "python",
   "nbconvert_exporter": "python",
   "pygments_lexer": "ipython3",
   "version": "3.10.9"
  }
 },
 "nbformat": 4,
 "nbformat_minor": 5
}
